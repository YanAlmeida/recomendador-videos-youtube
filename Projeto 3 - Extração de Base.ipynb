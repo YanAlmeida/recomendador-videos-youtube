{
 "cells": [
  {
   "cell_type": "code",
   "execution_count": 1,
   "metadata": {},
   "outputs": [],
   "source": [
    "#!pip install --upgrade google-api-python-client\n",
    "#!pip install --upgrade google-auth-oauthlib google-auth-httplib2\n",
    "#!pip install pandas\n",
    "#!pip install os\n",
    "import pandas as pd\n",
    "import os\n",
    "import google.oauth2.credentials\n",
    "import google_auth_oauthlib.flow\n",
    "from googleapiclient.discovery import build\n",
    "from googleapiclient.errors import HttpError\n",
    "from google_auth_oauthlib.flow import InstalledAppFlow\n",
    "CLIENT_SECRETS_FILE = \"client_secret.json\"\n",
    "SCOPES = ['https://www.googleapis.com/auth/youtube.force-ssl']\n",
    "API_SERVICE_NAME = 'youtube'\n",
    "API_VERSION = 'v3'\n",
    "def get_authenticated_service():\n",
    "    flow = InstalledAppFlow.from_client_secrets_file(CLIENT_SECRETS_FILE, SCOPES)\n",
    "    credentials = flow.run_console()\n",
    "    return build(API_SERVICE_NAME, API_VERSION, credentials = credentials)\n",
    "# Remove keyword arguments that are not set\n",
    "def remove_empty_kwargs(**kwargs):\n",
    "    good_kwargs = {}\n",
    "    if kwargs is not None:\n",
    "        for key, value in kwargs.items():\n",
    "            if value:\n",
    "                good_kwargs[key] = value\n",
    "    return good_kwargs"
   ]
  },
  {
   "cell_type": "code",
   "execution_count": 233,
   "metadata": {},
   "outputs": [
    {
     "name": "stdout",
     "output_type": "stream",
     "text": [
      "Please visit this URL to authorize this application: https://accounts.google.com/o/oauth2/auth?response_type=code&client_id=787554103224-ifu28o6san95n62u5dsu3u4hut0nf2qe.apps.googleusercontent.com&redirect_uri=urn%3Aietf%3Awg%3Aoauth%3A2.0%3Aoob&scope=https%3A%2F%2Fwww.googleapis.com%2Fauth%2Fyoutube.force-ssl&state=OYSCdQ29hBLINnYoFqQcvBjRuILqJK&prompt=consent&access_type=offline\n",
      "Enter the authorization code: 4/1AY0e-g7zmKjH6xLgCrNd7rSS3ew77B2e1fok_MONFmCK07WrTUYV5YNI-70\n"
     ]
    }
   ],
   "source": [
    "client = get_authenticated_service()"
   ]
  },
  {
   "cell_type": "code",
   "execution_count": 2,
   "metadata": {},
   "outputs": [],
   "source": [
    "path = os.getcwd()\n",
    "path_bases = os.getcwd() + '\\\\bases_coletadas\\\\'"
   ]
  },
  {
   "cell_type": "code",
   "execution_count": 11,
   "metadata": {},
   "outputs": [],
   "source": [
    "def youtube_keyword(client, **kwargs):    \n",
    "    kwargs = remove_empty_kwargs(**kwargs)\n",
    "    response = client.search().list(\n",
    "        **kwargs\n",
    "        ).execute()    \n",
    "    return response"
   ]
  },
  {
   "cell_type": "code",
   "execution_count": 3,
   "metadata": {},
   "outputs": [],
   "source": [
    "def youtube_search (criteria='',max_res=1, token = None):   \n",
    "    #create lists and empty dataframe\n",
    "    titles = []\n",
    "    videoIds = []\n",
    "    channelIds = []\n",
    "    resp_df = pd.DataFrame()\n",
    "    \n",
    "    while len(titles) < max_res:\n",
    "        response = youtube_keyword(client,\n",
    "                        part='id,snippet',\n",
    "                        maxResults=50,\n",
    "                        q=criteria,\n",
    "                        videoCaption='closedCaption',\n",
    "                        type='video', \n",
    "                        videoDuration='long',\n",
    "                        pageToken=token) \n",
    "                                         \n",
    "        for item in response['items']:        \n",
    "            titles.append(item['snippet']['title'])\n",
    "            channelIds.append(item['snippet']['channelTitle'])\n",
    "            videoIds.append(item['id']['videoId'])\n",
    "        \n",
    "        try:\n",
    "            token = response['nextPageToken']\n",
    "        except:\n",
    "            break\n",
    "        \n",
    "    resp_df['title'] = titles\n",
    "    resp_df['channelId'] = channelIds\n",
    "    resp_df['videoId'] = videoIds\n",
    "    resp_df['subject'] = criteria\n",
    "    \n",
    "    return resp_df\n",
    "\n",
    "def get_all_ccs(videos, lang='en'):\n",
    "    base_url = 'https://www.youtube.com/watch?v='\n",
    "    for vid in videos:\n",
    "        url = base_url + vid\n",
    "        cmd = [\"youtube-dl\",\"--skip-download\",\"--write-sub\",\n",
    "               \"--sub-lang\",lang,url]\n",
    "        os.system(\" \".join(cmd))"
   ]
  },
  {
   "cell_type": "code",
   "execution_count": 4,
   "metadata": {},
   "outputs": [],
   "source": [
    "#!pip install webvtt-py\n",
    "import webvtt\n",
    "def convert_vtt(filenames):    \n",
    "    #create an assets folder if one does not yet exist\n",
    "    if os.path.isdir('{}/assets'.format(os.getcwd())) == False:\n",
    "        os.makedirs('assets')\n",
    "    #extract the text and times from the vtt file\n",
    "    for file in filenames:\n",
    "        captions = webvtt.read(file)\n",
    "        text_time = pd.DataFrame()\n",
    "        text_time['text'] = [caption.text for caption in captions]\n",
    "        text_time['start'] = [caption.start for caption in captions]\n",
    "        text_time['stop'] = [caption.end for caption in captions]\n",
    "        text_time.to_csv('assets/{}.csv'.format(file[:-4]),index=False) #-4 to remove '.vtt'\n",
    "        #remove files from local drive\n",
    "        os.remove(file)"
   ]
  },
  {
   "cell_type": "code",
   "execution_count": 281,
   "metadata": {},
   "outputs": [
    {
     "name": "stdout",
     "output_type": "stream",
     "text": [
      "Funcionou! Id's extraidos\n"
     ]
    }
   ],
   "source": [
    "ids_novo = youtube_search(criteria='random', max_res=2000)\n",
    "ids = pd.read_excel(path_bases + 'ids.xlsx')\n",
    "ids_final = pd.concat([ids, ids_novo], axis=0)\n",
    "ids_final.to_excel(path_bases + 'ids.xlsx')\n",
    "print(\"Funcionou! Id's extraidos\")"
   ]
  },
  {
   "cell_type": "code",
   "execution_count": 282,
   "metadata": {},
   "outputs": [
    {
     "data": {
      "text/plain": [
       "16066"
      ]
     },
     "execution_count": 282,
     "metadata": {},
     "output_type": "execute_result"
    }
   ],
   "source": [
    "ids_final.shape[0]"
   ]
  },
  {
   "cell_type": "code",
   "execution_count": 253,
   "metadata": {},
   "outputs": [],
   "source": [
    "ids = pd.read_excel(path_bases + 'ids.xlsx')\n",
    "get_all_ccs(ids.videoId)"
   ]
  },
  {
   "cell_type": "code",
   "execution_count": 255,
   "metadata": {},
   "outputs": [],
   "source": [
    "subtitles = [file for file in os.listdir() if file[-3:] == 'vtt']\n",
    "convert_vtt(subtitles)"
   ]
  },
  {
   "cell_type": "code",
   "execution_count": 256,
   "metadata": {},
   "outputs": [],
   "source": [
    "csv_files = [os.fsdecode(file) for file in os.listdir(os.getcwd()+'/assets') if os.fsdecode(file).endswith('.csv')]\n",
    "path = 'assets/'\n",
    "for filename in csv_files:\n",
    "    os.rename(os.path.join(path, filename), os.path.join(path, filename.replace(' ', '')))\n",
    "#to verify the results\n",
    "    \n"
   ]
  },
  {
   "cell_type": "code",
   "execution_count": 258,
   "metadata": {},
   "outputs": [],
   "source": [
    "clean_csv = [os.fsdecode(file) for file in os.listdir(os.getcwd()+'/assets')]\n",
    "\n",
    "vidText = []\n",
    "csv_vidid = []\n",
    "\n",
    "for file in clean_csv:\n",
    "    df = pd.read_csv(path+file)\n",
    "    df.text = df.text.apply(lambda x: str(x))\n",
    "    text = \" \".join(df.text)\n",
    "    vidText.append(text)\n",
    "    csv_vidid.append(file[-18:-7])"
   ]
  },
  {
   "cell_type": "code",
   "execution_count": 283,
   "metadata": {},
   "outputs": [
    {
     "data": {
      "text/html": [
       "<div>\n",
       "<style scoped>\n",
       "    .dataframe tbody tr th:only-of-type {\n",
       "        vertical-align: middle;\n",
       "    }\n",
       "\n",
       "    .dataframe tbody tr th {\n",
       "        vertical-align: top;\n",
       "    }\n",
       "\n",
       "    .dataframe thead th {\n",
       "        text-align: right;\n",
       "    }\n",
       "</style>\n",
       "<table border=\"1\" class=\"dataframe\">\n",
       "  <thead>\n",
       "    <tr style=\"text-align: right;\">\n",
       "      <th></th>\n",
       "      <th>video_title</th>\n",
       "      <th>video_captions</th>\n",
       "      <th>video_id</th>\n",
       "    </tr>\n",
       "  </thead>\n",
       "  <tbody>\n",
       "    <tr>\n",
       "      <th>0</th>\n",
       "      <td>#007_NewCityProductionsPodcast-CurtisMcCoshhow...</td>\n",
       "      <td>[Becky] Hi everybody welcome back to another e...</td>\n",
       "      <td>RX--L0xnnDo</td>\n",
       "    </tr>\n",
       "    <tr>\n",
       "      <th>1</th>\n",
       "      <td>#1-JoshGroban—TheLinkBetweenMusicandMentalHeal...</td>\n",
       "      <td>(upbeat music) - [Marjorie] Hi, this\\nis Marjo...</td>\n",
       "      <td>kNxmPdHVtp4</td>\n",
       "    </tr>\n",
       "    <tr>\n",
       "      <th>2</th>\n",
       "      <td>#16ទៅប្រមូលក្រីស្តាល😁_ARK-SurvivalEvolved-QLd1...</td>\n",
       "      <td>Hello Guys\\nHope you guys enjoy this video\\nDo...</td>\n",
       "      <td>QLd1nGvjks4</td>\n",
       "    </tr>\n",
       "    <tr>\n",
       "      <th>3</th>\n",
       "      <td>#17អា១នេះខ្លាំងណាស់😁_ARK-SurvivalEvolved-AppGu...</td>\n",
       "      <td>Hello Guys\\nHope you guys enjoy this video\\nDo...</td>\n",
       "      <td>AppGuqwRp-4</td>\n",
       "    </tr>\n",
       "    <tr>\n",
       "      <th>4</th>\n",
       "      <td>#18បានលំពែងហើយតែ..😁_ARK-SurvivalEvolved-bdqzFE...</td>\n",
       "      <td>Hello Guys\\nHope you guys enjoy this video\\nDo...</td>\n",
       "      <td>bdqzFEg-pDE</td>\n",
       "    </tr>\n",
       "    <tr>\n",
       "      <th>...</th>\n",
       "      <td>...</td>\n",
       "      <td>...</td>\n",
       "      <td>...</td>\n",
       "    </tr>\n",
       "    <tr>\n",
       "      <th>7453</th>\n",
       "      <td>🙌BOOKREVIEW🙌January-oZ_qiYc133U.en.csv</td>\n",
       "      <td>Before this video begins, I'm doing another gi...</td>\n",
       "      <td>oZ_qiYc133U</td>\n",
       "    </tr>\n",
       "    <tr>\n",
       "      <th>7454</th>\n",
       "      <td>🚙LIVE-LançamentoMITSUBISHIPAJEROSPORT2021-Blog...</td>\n",
       "      <td>Hello good afternoon\\neveryone is very welcome...</td>\n",
       "      <td>VoLmhn8oEt4</td>\n",
       "    </tr>\n",
       "    <tr>\n",
       "      <th>7455</th>\n",
       "      <td>🛵ONTESTEunKIT70!🛵UnevéritableFUSEE!⚡+codePROMO...</td>\n",
       "      <td>all good ready to go to 70 that's it it's the ...</td>\n",
       "      <td>OdVpbg_O-a8</td>\n",
       "    </tr>\n",
       "    <tr>\n",
       "      <th>7456</th>\n",
       "      <td>🤡best&amp;worstbooksi'vereadAKAaverylatemidyearfre...</td>\n",
       "      <td>That's why I ended\\nup rating it 3 stars. It's...</td>\n",
       "      <td>phbkN8-4bBg</td>\n",
       "    </tr>\n",
       "    <tr>\n",
       "      <th>7457</th>\n",
       "      <td>🥰RomanceBookstoSWOONOver😍🔥[CC]-3yvhMPHZ0ws.en.csv</td>\n",
       "      <td>All's faire in love and war for two sworn&amp;nbsp...</td>\n",
       "      <td>3yvhMPHZ0ws</td>\n",
       "    </tr>\n",
       "  </tbody>\n",
       "</table>\n",
       "<p>7458 rows × 3 columns</p>\n",
       "</div>"
      ],
      "text/plain": [
       "                                            video_title  \\\n",
       "0     #007_NewCityProductionsPodcast-CurtisMcCoshhow...   \n",
       "1     #1-JoshGroban—TheLinkBetweenMusicandMentalHeal...   \n",
       "2     #16ទៅប្រមូលក្រីស្តាល😁_ARK-SurvivalEvolved-QLd1...   \n",
       "3     #17អា១នេះខ្លាំងណាស់😁_ARK-SurvivalEvolved-AppGu...   \n",
       "4     #18បានលំពែងហើយតែ..😁_ARK-SurvivalEvolved-bdqzFE...   \n",
       "...                                                 ...   \n",
       "7453             🙌BOOKREVIEW🙌January-oZ_qiYc133U.en.csv   \n",
       "7454  🚙LIVE-LançamentoMITSUBISHIPAJEROSPORT2021-Blog...   \n",
       "7455  🛵ONTESTEunKIT70!🛵UnevéritableFUSEE!⚡+codePROMO...   \n",
       "7456  🤡best&worstbooksi'vereadAKAaverylatemidyearfre...   \n",
       "7457  🥰RomanceBookstoSWOONOver😍🔥[CC]-3yvhMPHZ0ws.en.csv   \n",
       "\n",
       "                                         video_captions     video_id  \n",
       "0     [Becky] Hi everybody welcome back to another e...  RX--L0xnnDo  \n",
       "1     (upbeat music) - [Marjorie] Hi, this\\nis Marjo...  kNxmPdHVtp4  \n",
       "2     Hello Guys\\nHope you guys enjoy this video\\nDo...  QLd1nGvjks4  \n",
       "3     Hello Guys\\nHope you guys enjoy this video\\nDo...  AppGuqwRp-4  \n",
       "4     Hello Guys\\nHope you guys enjoy this video\\nDo...  bdqzFEg-pDE  \n",
       "...                                                 ...          ...  \n",
       "7453  Before this video begins, I'm doing another gi...  oZ_qiYc133U  \n",
       "7454  Hello good afternoon\\neveryone is very welcome...  VoLmhn8oEt4  \n",
       "7455  all good ready to go to 70 that's it it's the ...  OdVpbg_O-a8  \n",
       "7456  That's why I ended\\nup rating it 3 stars. It's...  phbkN8-4bBg  \n",
       "7457  All's faire in love and war for two sworn&nbsp...  3yvhMPHZ0ws  \n",
       "\n",
       "[7458 rows x 3 columns]"
      ]
     },
     "execution_count": 283,
     "metadata": {},
     "output_type": "execute_result"
    }
   ],
   "source": [
    "videos_df = pd.DataFrame()\n",
    "videos_df['video_title'] = clean_csv\n",
    "videos_df['video_captions'] = vidText\n",
    "videos_df['video_id'] = csv_vidid\n",
    "\n",
    "videos_df"
   ]
  },
  {
   "cell_type": "code",
   "execution_count": 266,
   "metadata": {},
   "outputs": [],
   "source": [
    "videos_df.to_excel(path_bases + 'subtitles.xlsx')"
   ]
  },
  {
   "cell_type": "code",
   "execution_count": 267,
   "metadata": {},
   "outputs": [],
   "source": [
    "videos_df.to_csv(path_bases + 'subtitles.csv')"
   ]
  },
  {
   "cell_type": "code",
   "execution_count": 268,
   "metadata": {},
   "outputs": [
    {
     "data": {
      "text/plain": [
       "['C:\\\\Users\\\\Pichau\\\\Desktop\\\\PROJETO 3 - PLN\\\\bases_coletadas\\\\subtitles.pkl']"
      ]
     },
     "execution_count": 268,
     "metadata": {},
     "output_type": "execute_result"
    }
   ],
   "source": [
    "import joblib\n",
    "joblib.dump(videos_df, path_bases + 'subtitles.pkl')"
   ]
  }
 ],
 "metadata": {
  "kernelspec": {
   "display_name": "Python 3",
   "language": "python",
   "name": "python3"
  },
  "language_info": {
   "codemirror_mode": {
    "name": "ipython",
    "version": 3
   },
   "file_extension": ".py",
   "mimetype": "text/x-python",
   "name": "python",
   "nbconvert_exporter": "python",
   "pygments_lexer": "ipython3",
   "version": "3.8.5"
  }
 },
 "nbformat": 4,
 "nbformat_minor": 4
}
